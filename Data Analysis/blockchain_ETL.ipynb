{
 "cells": [
  {
   "cell_type": "markdown",
   "metadata": {},
   "source": [
    "# Notes"
   ]
  },
  {
   "cell_type": "markdown",
   "metadata": {},
   "source": []
  },
  {
   "cell_type": "markdown",
   "metadata": {},
   "source": [
    "#### Blockchain ETL"
   ]
  },
  {
   "cell_type": "code",
   "execution_count": 24,
   "metadata": {},
   "outputs": [],
   "source": [
    "from web3 import Web3\n",
    "import requests\n",
    "from pprint import pprint\n",
    "import json\n",
    "\n",
    "global ETHERSCAN_API_KEY\n",
    "ETHERSCAN_API_KEY = \"6AMB9PGBYJ5AHHCZHCCZAU5Y7E4KEVET47\"\n",
    "\n",
    "############################### Start definitions ###############################\n",
    "\n",
    "\n",
    "class MethodHandler:\n",
    "    def __init__(self):\n",
    "        pass\n",
    "\n",
    "    def get_abi(self, smart_contract_address) -> dict:\n",
    "        etherscan_abi_endpoint = f\"https://api.etherscan.io/api?module=contract&action=getabi&address={smart_contract_address}&apikey={ETHERSCAN_API_KEY}\"\n",
    "        response = requests.get(etherscan_abi_endpoint).text\n",
    "        abi = json.loads(response)[\"result\"]\n",
    "        return json.loads(abi)\n",
    "        \n",
    "    def units_to_decimals(self, tokens, num_decimals=18) -> float:\n",
    "        tokens = str(tokens)\n",
    "        num_decimals = int(num_decimals)\n",
    "        tokens = f\"{tokens[:-num_decimals]}.{tokens[-num_decimals:]}\"\n",
    "        return float(tokens)\n",
    "\n",
    "############################### End definitions ###############################\n",
    "\n",
    "# Connect to Ethereum node\n",
    "web3 = Web3(Web3.HTTPProvider('https://mainnet.infura.io/v3/58ea22f2caa14187bd2b8c0682c84848'))\n",
    "\n",
    "# Method handler object\n",
    "mh = MethodHandler()\n",
    "\n",
    "# Get latest block\n",
    "block = web3.eth.get_block(\"latest\", full_transactions=True)\n",
    "# Current block number\n",
    "block_nbr = block[\"number\"]\n",
    "\n",
    "# Gather block data\n",
    "gas_used = block[\"gasUsed\"] \n",
    "gas_limit = block[\"gasLimit\"] \n",
    "block_size = block[\"size\"]\n",
    "diff = block[\"difficulty\"]\n",
    "total_diff = block[\"totalDifficulty\"]\n",
    "miner = block[\"miner\"]\n",
    "time = block[\"timestamp\"] \n",
    "# Add to DB for use later\n",
    "# ...\n",
    "\n",
    "# Gather transaction data\n",
    "transactions = [\n",
    "    {\n",
    "    \"to\": tx[\"to\"],\n",
    "    \"from\": tx[\"from\"],\n",
    "    \"value\": tx[\"value\"],\n",
    "    \"gas\": tx[\"gas\"],\n",
    "    \"gas_price\": tx[\"gasPrice\"],\n",
    "    }\n",
    "    for tx in block[\"transactions\"]\n",
    "]"
   ]
  },
  {
   "cell_type": "code",
   "execution_count": 27,
   "metadata": {},
   "outputs": [
    {
     "data": {
      "text/plain": [
       "319247.4765625"
      ]
     },
     "execution_count": 27,
     "metadata": {},
     "output_type": "execute_result"
    }
   ],
   "source": [
    "# Avg gas price\n",
    "gas_prices = [tx[\"gas\"] for tx in transactions]\n",
    "avg_gas_wei = np.mean(gas)\n",
    "avg_gas_wei"
   ]
  },
  {
   "cell_type": "code",
   "execution_count": 34,
   "metadata": {},
   "outputs": [
    {
     "data": {
      "text/plain": [
       "3.200496331993298e+17"
      ]
     },
     "execution_count": 34,
     "metadata": {},
     "output_type": "execute_result"
    }
   ],
   "source": [
    "# Avg value\n",
    "eth_value = [tx[\"value\"] for tx in transactions]\n",
    "avg_eth_value = np.mean(eth_value)\n",
    "avg_eth_value"
   ]
  },
  {
   "cell_type": "code",
   "execution_count": 35,
   "metadata": {},
   "outputs": [
    {
     "data": {
      "text/plain": [
       "13.0"
      ]
     },
     "execution_count": 35,
     "metadata": {},
     "output_type": "execute_result"
    }
   ],
   "source": [
    "# max value exchanged\n",
    "avg_eth_value = max(eth_value)\n",
    "mh.units_to_decimals(avg_eth_value)"
   ]
  }
 ],
 "metadata": {
  "kernelspec": {
   "display_name": "Python 3",
   "language": "python",
   "name": "python3"
  },
  "language_info": {
   "codemirror_mode": {
    "name": "ipython",
    "version": 3
   },
   "file_extension": ".py",
   "mimetype": "text/x-python",
   "name": "python",
   "nbconvert_exporter": "python",
   "pygments_lexer": "ipython3",
   "version": "3.7.6"
  }
 },
 "nbformat": 4,
 "nbformat_minor": 4
}
