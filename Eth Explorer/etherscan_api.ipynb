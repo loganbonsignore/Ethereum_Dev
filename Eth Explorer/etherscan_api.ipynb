{
 "cells": [
  {
   "cell_type": "markdown",
   "metadata": {},
   "source": [
    "### Etherscan API\n",
    "* https://etherscan.io/apis\n",
    "* Python Library: https://github.com/pcko1/etherscan-python"
   ]
  },
  {
   "cell_type": "code",
   "execution_count": 33,
   "metadata": {},
   "outputs": [],
   "source": [
    "import requests\n",
    "import json\n",
    "from pprint import pprint\n",
    "\n",
    "ledger = \"0xD806e6019AC21714B3B96b0731DD0715Ef2f08AC\"\n",
    "metamask = \"0x97BAd4347C45b8DF0F4ebf24D8F0250c8366F8ef\"\n",
    "\n",
    "etherscan_api_key = \"6AMB9PGBYJ5AHHCZHCCZAU5Y7E4KEVET47\""
   ]
  },
  {
   "cell_type": "code",
   "execution_count": 15,
   "metadata": {},
   "outputs": [
    {
     "data": {
      "text/plain": [
       "'{\"status\":\"1\",\"message\":\"OK\",\"result\":\"55434816768789755\"}'"
      ]
     },
     "execution_count": 15,
     "metadata": {},
     "output_type": "execute_result"
    }
   ],
   "source": [
    "eth_balance_for_single_address = f\"https://api.etherscan.io/api?module=account&action=balance&address={ledger}&tag=latest&apikey={etherscan_api_key}\"\n",
    "result = requests.get(eth_balance_for_single_address)\n",
    "result.text"
   ]
  },
  {
   "cell_type": "code",
   "execution_count": 40,
   "metadata": {},
   "outputs": [
    {
     "name": "stdout",
     "output_type": "stream",
     "text": [
      "[{'blockHash': '0x029ff34cd2f7a19fd1632d50b0b0ca46a49d03b510d0061c47a80545bf28c901',\n",
      "  'blockNumber': '12381153',\n",
      "  'confirmations': '151401',\n",
      "  'contractAddress': '',\n",
      "  'cumulativeGasUsed': '5485870',\n",
      "  'from': '0x912fd21d7a69678227fe6d08c64222db41477ba0',\n",
      "  'gas': '50000',\n",
      "  'gasPrice': '98865000000',\n",
      "  'gasUsed': '21000',\n",
      "  'hash': '0x1f5cbedb840d1e9765059cfcf107ef92306f6ea8bbdfbb5da6404440a736c73e',\n",
      "  'input': '0x',\n",
      "  'isError': '0',\n",
      "  'nonce': '510309',\n",
      "  'timeStamp': '1620309878',\n",
      "  'to': '0xd806e6019ac21714b3b96b0731dd0715ef2f08ac',\n",
      "  'transactionIndex': '183',\n",
      "  'txreceipt_status': '1',\n",
      "  'value': '55434816768789755'}]\n"
     ]
    }
   ],
   "source": [
    "list_of_normal_transactions = f\"https://api.etherscan.io/api?module=account&action=txlist&address={ledger}&startblock=0&endblock=99999999&sort=asc&apikey={etherscan_api_key}\"\n",
    "result = requests.get(list_of_normal_transactions)\n",
    "pprint(json.loads(result.text)[\"result\"])"
   ]
  },
  {
   "cell_type": "code",
   "execution_count": 37,
   "metadata": {
    "scrolled": false
   },
   "outputs": [
    {
     "name": "stdout",
     "output_type": "stream",
     "text": [
      "[{'blockHash': '0x3091c82c7a15d82eb652b09186cf222b6cbf4d3ff5c27fe324208ef3d1f4764a',\n",
      "  'blockNumber': '12272544',\n",
      "  'confirmations': '259996',\n",
      "  'contractAddress': '0xa0b73e1ff0b80914ab6fe0444e65848c4c34450b',\n",
      "  'cumulativeGasUsed': '11495390',\n",
      "  'from': '0x97bad4347c45b8df0f4ebf24d8f0250c8366f8ef',\n",
      "  'gas': '81823',\n",
      "  'gasPrice': '215000000000',\n",
      "  'gasUsed': '39549',\n",
      "  'hash': '0x9b97ca7ec9565cadb300861bd4ddb9b7bab3b56133bc0e882fa0ea09f7d79ecc',\n",
      "  'input': 'deprecated',\n",
      "  'nonce': '39',\n",
      "  'timeStamp': '1618862548',\n",
      "  'to': '0xd806e6019ac21714b3b96b0731dd0715ef2f08ac',\n",
      "  'tokenDecimal': '8',\n",
      "  'tokenName': 'Crypto.com Coin',\n",
      "  'tokenSymbol': 'CRO',\n",
      "  'transactionIndex': '207',\n",
      "  'value': '328617318494'},\n",
      " {'blockHash': '0x10c90f955108583caeb1d222ac96a6da28eacaa5268d6d3666d5a831a1f77b97',\n",
      "  'blockNumber': '12272550',\n",
      "  'confirmations': '259990',\n",
      "  'contractAddress': '0x1614f18fc94f47967a3fbe5ffcd46d4e7da3d787',\n",
      "  'cumulativeGasUsed': '5634522',\n",
      "  'from': '0x97bad4347c45b8df0f4ebf24d8f0250c8366f8ef',\n",
      "  'gas': '96288',\n",
      "  'gasPrice': '210000000000',\n",
      "  'gasUsed': '48682',\n",
      "  'hash': '0x10a53bc0e21a7fe78bf5bda47c2467ae70ae9fdea40218322e79532abcadc7af',\n",
      "  'input': 'deprecated',\n",
      "  'nonce': '40',\n",
      "  'timeStamp': '1618862616',\n",
      "  'to': '0xd806e6019ac21714b3b96b0731dd0715ef2f08ac',\n",
      "  'tokenDecimal': '18',\n",
      "  'tokenName': 'PAID Network',\n",
      "  'tokenSymbol': 'PAID',\n",
      "  'transactionIndex': '104',\n",
      "  'value': '162470859386722272850'},\n",
      " {'blockHash': '0xb2a2de0a6fc576ddcd22f1b3cdd991bcd232802b09c88b029b1d8cced6563127',\n",
      "  'blockNumber': '12272554',\n",
      "  'confirmations': '259986',\n",
      "  'contractAddress': '0x7bef710a5759d197ec0bf621c3df802c2d60d848',\n",
      "  'cumulativeGasUsed': '10478765',\n",
      "  'from': '0x97bad4347c45b8df0f4ebf24d8f0250c8366f8ef',\n",
      "  'gas': '77028',\n",
      "  'gasPrice': '210000000000',\n",
      "  'gasUsed': '36352',\n",
      "  'hash': '0x04afed7e74cb0c1c613c0657ee7932d6240a5b9e0200dda9b809f08ab01e5587',\n",
      "  'input': 'deprecated',\n",
      "  'nonce': '41',\n",
      "  'timeStamp': '1618862679',\n",
      "  'to': '0xd806e6019ac21714b3b96b0731dd0715ef2f08ac',\n",
      "  'tokenDecimal': '18',\n",
      "  'tokenName': 'SPLYT SHOPX',\n",
      "  'tokenSymbol': 'SHOPX',\n",
      "  'transactionIndex': '179',\n",
      "  'value': '100000000000000000000'},\n",
      " {'blockHash': '0xb2a2de0a6fc576ddcd22f1b3cdd991bcd232802b09c88b029b1d8cced6563127',\n",
      "  'blockNumber': '12272554',\n",
      "  'confirmations': '259986',\n",
      "  'contractAddress': '0x626e8036deb333b408be468f951bdb42433cbf18',\n",
      "  'cumulativeGasUsed': '10869121',\n",
      "  'from': '0x97bad4347c45b8df0f4ebf24d8f0250c8366f8ef',\n",
      "  'gas': '77461',\n",
      "  'gasPrice': '210000000000',\n",
      "  'gasUsed': '36641',\n",
      "  'hash': '0xc7f4963a61b7a9740dee6d9bce353ce0b04ed98a1347a345033892399e117b85',\n",
      "  'input': 'deprecated',\n",
      "  'nonce': '42',\n",
      "  'timeStamp': '1618862679',\n",
      "  'to': '0xd806e6019ac21714b3b96b0731dd0715ef2f08ac',\n",
      "  'tokenDecimal': '18',\n",
      "  'tokenName': 'AIOZ Network',\n",
      "  'tokenSymbol': 'AIOZ',\n",
      "  'transactionIndex': '183',\n",
      "  'value': '297024089861056669217'},\n",
      " {'blockHash': '0x92c8f31a052d266912722cdbdb38e483138b707019bc0cfc46a8764024b3e9d1',\n",
      "  'blockNumber': '12305309',\n",
      "  'confirmations': '227231',\n",
      "  'contractAddress': '0xc4de189abf94c57f396bd4c52ab13b954febefd8',\n",
      "  'cumulativeGasUsed': '6839636',\n",
      "  'from': '0x236c1b8a4964eeb3d9e4ecaa15eb8bdd3eb5cca0',\n",
      "  'gas': '77932',\n",
      "  'gasPrice': '55000000000',\n",
      "  'gasUsed': '36955',\n",
      "  'hash': '0x5aaa2728cd1c90f2a883c62a5b8624a394f2b55f901c41292a9680ab6cfe4c1f',\n",
      "  'input': 'deprecated',\n",
      "  'nonce': '23',\n",
      "  'timeStamp': '1619298629',\n",
      "  'to': '0xd806e6019ac21714b3b96b0731dd0715ef2f08ac',\n",
      "  'tokenDecimal': '18',\n",
      "  'tokenName': 'B.20',\n",
      "  'tokenSymbol': 'B20',\n",
      "  'transactionIndex': '231',\n",
      "  'value': '7000000000000000000'},\n",
      " {'blockHash': '0xa0e504a16e2c58da9570f6d421327d55a42e593594ace017f28fe291baf169c5',\n",
      "  'blockNumber': '12306442',\n",
      "  'confirmations': '226098',\n",
      "  'contractAddress': '0x4da27a545c0c5b758a6ba100e3a049001de870f5',\n",
      "  'cumulativeGasUsed': '13978443',\n",
      "  'from': '0x236c1b8a4964eeb3d9e4ecaa15eb8bdd3eb5cca0',\n",
      "  'gas': '471390',\n",
      "  'gasPrice': '42900000000',\n",
      "  'gasUsed': '294843',\n",
      "  'hash': '0xe56414807dfe3b5356ca186d9c0d92d585b7b650db6de1dced98440e07a35716',\n",
      "  'input': 'deprecated',\n",
      "  'nonce': '24',\n",
      "  'timeStamp': '1619314100',\n",
      "  'to': '0xd806e6019ac21714b3b96b0731dd0715ef2f08ac',\n",
      "  'tokenDecimal': '18',\n",
      "  'tokenName': 'Staked Aave',\n",
      "  'tokenSymbol': 'stkAAVE',\n",
      "  'transactionIndex': '112',\n",
      "  'value': '4202527529216502370'},\n",
      " {'blockHash': '0xac84bdd48741d311c6e31f5bdca6812f49c6d643ce6a1a5e03bb8d3a95981243',\n",
      "  'blockNumber': '12387750',\n",
      "  'confirmations': '144790',\n",
      "  'contractAddress': '0x514910771af9ca656af840dff83e8264ecf986ca',\n",
      "  'cumulativeGasUsed': '5405978',\n",
      "  'from': '0xf60c2ea62edbfe808163751dd0d8693dcb30019c',\n",
      "  'gas': '207128',\n",
      "  'gasPrice': '120000000000',\n",
      "  'gasUsed': '52101',\n",
      "  'hash': '0xd3d8c22fc22c391076b9ca4b046246e38036a8e01b2775ff2c0c7f55035220e9',\n",
      "  'input': 'deprecated',\n",
      "  'nonce': '209426',\n",
      "  'timeStamp': '1620398663',\n",
      "  'to': '0xd806e6019ac21714b3b96b0731dd0715ef2f08ac',\n",
      "  'tokenDecimal': '18',\n",
      "  'tokenName': 'ChainLink Token',\n",
      "  'tokenSymbol': 'LINK',\n",
      "  'transactionIndex': '135',\n",
      "  'value': '28700680000000000000'}]\n"
     ]
    }
   ],
   "source": [
    "list_of_erc20_transfers = f\"https://api.etherscan.io/api?module=account&action=tokentx&address={ledger}&startblock=0&endblock=999999999&sort=asc&apikey={etherscan_api_key}\"\n",
    "result = requests.get(list_of_erc20_transfers)\n",
    "pprint(json.loads(result.text)[\"result\"])"
   ]
  },
  {
   "cell_type": "code",
   "execution_count": 41,
   "metadata": {},
   "outputs": [
    {
     "name": "stdout",
     "output_type": "stream",
     "text": [
      "[]\n"
     ]
    }
   ],
   "source": [
    "list_of_erc721_transfers = f\"https://api.etherscan.io/api?module=account&action=tokennfttx&address={ledger}&startblock=0&endblock=999999999&sort=asc&apikey={etherscan_api_key}\"\n",
    "result = requests.get(list_of_erc721_transfers)\n",
    "pprint(json.loads(result.text)[\"result\"])"
   ]
  },
  {
   "cell_type": "code",
   "execution_count": 42,
   "metadata": {},
   "outputs": [
    {
     "name": "stdout",
     "output_type": "stream",
     "text": [
      "'21265524714464'\n"
     ]
    }
   ],
   "source": [
    "contract_address = \"0x57d90b64a1a57749b0f932f1a3395792e12e7055\"\n",
    "erc20_token_total_supply = f\"https://api.etherscan.io/api?module=stats&action=tokensupply&contractaddress={contract_address}&apikey={etherscan_api_key}\"\n",
    "result = requests.get(erc20_token_total_supply)\n",
    "pprint(json.loads(result.text)[\"result\"])"
   ]
  },
  {
   "cell_type": "code",
   "execution_count": 44,
   "metadata": {},
   "outputs": [
    {
     "name": "stdout",
     "output_type": "stream",
     "text": [
      "'28700680000000000000'\n"
     ]
    }
   ],
   "source": [
    "contract_address = \"0x514910771af9ca656af840dff83e8264ecf986ca\"\n",
    "erc20_token_account_balance = f\"https://api.etherscan.io/api?module=account&action=tokenbalance&contractaddress={contract_address}&address={ledger}&tag=latest&apikey={etherscan_api_key}\"\n",
    "result = requests.get(erc20_token_account_balance)\n",
    "pprint(json.loads(result.text)[\"result\"])"
   ]
  },
  {
   "cell_type": "code",
   "execution_count": 46,
   "metadata": {},
   "outputs": [
    {
     "name": "stdout",
     "output_type": "stream",
     "text": [
      "('Sorry, it looks like you are trying to access an API Pro endpoint. Contact '\n",
      " 'us to upgrade to API Pro.')\n"
     ]
    }
   ],
   "source": [
    "contract_address = \"0x514910771af9ca656af840dff83e8264ecf986ca\"\n",
    "token_info_by_contract_address = f\"https://api.etherscan.io/api?module=token&action=tokeninfo&contractaddress={contract_address}&apikey={etherscan_api_key}\"\n",
    "result = requests.get(token_info_by_contract_address)\n",
    "pprint(json.loads(result.text)[\"result\"])"
   ]
  },
  {
   "cell_type": "code",
   "execution_count": null,
   "metadata": {},
   "outputs": [],
   "source": []
  }
 ],
 "metadata": {
  "kernelspec": {
   "display_name": "Python 3",
   "language": "python",
   "name": "python3"
  },
  "language_info": {
   "codemirror_mode": {
    "name": "ipython",
    "version": 3
   },
   "file_extension": ".py",
   "mimetype": "text/x-python",
   "name": "python",
   "nbconvert_exporter": "python",
   "pygments_lexer": "ipython3",
   "version": "3.7.6"
  }
 },
 "nbformat": 4,
 "nbformat_minor": 4
}
